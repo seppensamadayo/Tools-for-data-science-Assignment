{
 "cells": [
  {
   "cell_type": "markdown",
   "metadata": {},
   "source": [
    "<center>\n",
    "    <img src=\"https://s3-api.us-geo.objectstorage.softlayer.net/cf-courses-data/CognitiveClass/Logos/organization_logo/organization_logo.png\" width=\"300\" alt=\"cognitiveclass.ai logo\"  />\n",
    "</center>\n"
   ]
  },
  {
   "cell_type": "markdown",
   "metadata": {
    "tags": []
   },
   "source": [
    "#### Add your code below following the instructions given in the course\n"
   ]
  },
  {
   "cell_type": "markdown",
   "metadata": {
    "tags": []
   },
   "source": [
    "# My Jupyter Notebook on IBM Watson Studio"
   ]
  },
  {
   "cell_type": "markdown",
   "metadata": {
    "tags": []
   },
   "source": [
    "__Yağmur Berfin YILMAZ__\n",
    "Research Analyst"
   ]
  },
  {
   "cell_type": "markdown",
   "metadata": {},
   "source": [
    "_Due to fields I am a part of, I need to know how to collect, classify and interpret the data. Before I wasn't fully aware of its importance, until it was time for working on my bachelor's thesis. I had a quite hard time and in the end I had to state that I couldn't do it as I didn't have any idea on how to correctly do it and searching for information on the internet desperately made me even more confused. Now I want to take a step forward to learn/create time for learning._"
   ]
  },
  {
   "cell_type": "markdown",
   "metadata": {},
   "source": [
    "### A Simple Mathematics Equation"
   ]
  },
  {
   "cell_type": "code",
   "execution_count": 1,
   "metadata": {},
   "outputs": [
    {
     "data": {
      "text/plain": [
       "4"
      ]
     },
     "execution_count": 1,
     "metadata": {},
     "output_type": "execute_result"
    }
   ],
   "source": [
    "2*2"
   ]
  },
  {
   "cell_type": "markdown",
   "metadata": {},
   "source": [
    "[LinkedIn](https://www.linkedin.com/in/yagmurberfinyilmaz/)\n",
    "\n",
    "***\n",
    "\n",
    "![Anime](images/178924622_1100562177133789_6626449089245570660_n.jpg)\n",
    "\n",
    "***\n",
    "\n",
    "1. Title\n",
    "2. Abstract\n",
    "3. Key words\n",
    "\n",
    "***\n",
    "\n",
    "|Name|City|Animal\n",
    "|----|----|------\n",
    "|Dane|Diyarbakır|Dog\n",
    "|Aby|Ankara|Alligator\n",
    "\n",
    "***\n",
    "\n",
    "~~Thank you~~\n"
   ]
  }
 ],
 "metadata": {
  "kernelspec": {
   "display_name": "Python",
   "language": "python",
   "name": "conda-env-python-py"
  },
  "language_info": {
   "codemirror_mode": {
    "name": "ipython",
    "version": 3
   },
   "file_extension": ".py",
   "mimetype": "text/x-python",
   "name": "python",
   "nbconvert_exporter": "python",
   "pygments_lexer": "ipython3",
   "version": "3.7.12"
  }
 },
 "nbformat": 4,
 "nbformat_minor": 4
}
